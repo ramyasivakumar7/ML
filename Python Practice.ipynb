{
 "cells": [
  {
   "cell_type": "markdown",
   "metadata": {},
   "source": [
    "## Q1. Write a Python program to get the string from the given string where\n",
    "## all the occurrence of its first char has been changed to '$,' except first char itself?\n",
    "\n",
    "## Sample String: 'prospect'\n",
    "## Expected Result : 'pros$ect'\n",
    "\n",
    "\n",
    "\n"
   ]
  },
  {
   "cell_type": "code",
   "execution_count": 38,
   "metadata": {},
   "outputs": [
    {
     "data": {
      "text/plain": [
       "'pros$ect'"
      ]
     },
     "execution_count": 38,
     "metadata": {},
     "output_type": "execute_result"
    }
   ],
   "source": [
    "def first_char(str1):\n",
    "    char=str1[0] #---------> first character\n",
    "    str1=str1.replace(char,'$') # This line will only replace the first character of the string. But we need to replace all the occurence of the first character of the string, except the first character\n",
    "    str1=char+str1[1:]          # We are adding char since we need to return the first value too \n",
    "    return str1\n",
    "first_char('prospect')"
   ]
  },
  {
   "cell_type": "markdown",
   "metadata": {},
   "source": [
    "# Program to change the character if it a lower case or upper case"
   ]
  },
  {
   "cell_type": "code",
   "execution_count": 43,
   "metadata": {},
   "outputs": [
    {
     "data": {
      "text/plain": [
       "'p$ros$ect'"
      ]
     },
     "execution_count": 43,
     "metadata": {},
     "output_type": "execute_result"
    }
   ],
   "source": [
    "def lower_upp(str2):\n",
    "    char=str2[0]\n",
    "    str2=str2.replace(char,'$')\n",
    "    str2=str2.replace('P','$')\n",
    "    str2=char+str2\n",
    "    return str2\n",
    "lower_upp('prosPect')"
   ]
  },
  {
   "cell_type": "markdown",
   "metadata": {},
   "source": [
    "##  Q2. Write a Python program to get the single string from the two given strings, and separated by the space and swap the first two characters of each string?\n",
    "## Sample String : 'abc', 'xyz'.\n",
    "## Expected Result: 'xyc abz'\n"
   ]
  },
  {
   "cell_type": "code",
   "execution_count": 69,
   "metadata": {},
   "outputs": [
    {
     "data": {
      "text/plain": [
       "'xyc abz'"
      ]
     },
     "execution_count": 69,
     "metadata": {},
     "output_type": "execute_result"
    }
   ],
   "source": [
    "def two_strings(a,b):\n",
    "    new_a=b[:2]+a[2:]\n",
    "    new_b=a[:2]+b[2:]\n",
    "    return new_a+' '+new_b\n",
    "two_strings('abc','xyz')"
   ]
  },
  {
   "cell_type": "markdown",
   "metadata": {},
   "source": [
    "### Q4. Write the Python program to add 'ing' at the end of the given string\n",
    "### (length of the string should be at least 3). If given string already ends\n",
    "### with 'ing,' then add 'ly' instead. If string length of the given string is less\n",
    "### than 3, leave it unchanged?"
   ]
  },
  {
   "cell_type": "code",
   "execution_count": 90,
   "metadata": {},
   "outputs": [
    {
     "data": {
      "text/plain": [
       "'Stringly'"
      ]
     },
     "execution_count": 90,
     "metadata": {},
     "output_type": "execute_result"
    }
   ],
   "source": [
    "def ing_ly(a):\n",
    "    length=len(a)\n",
    "    if len(a)>2:\n",
    "        if a[-3:]=='ing':\n",
    "            a +='ly'\n",
    "        else:\n",
    "            a +='ing'\n",
    "    return a\n",
    "ing_ly('String')"
   ]
  },
  {
   "cell_type": "code",
   "execution_count": null,
   "metadata": {},
   "outputs": [],
   "source": []
  }
 ],
 "metadata": {
  "kernelspec": {
   "display_name": "Python 3",
   "language": "python",
   "name": "python3"
  },
  "language_info": {
   "codemirror_mode": {
    "name": "ipython",
    "version": 3
   },
   "file_extension": ".py",
   "mimetype": "text/x-python",
   "name": "python",
   "nbconvert_exporter": "python",
   "pygments_lexer": "ipython3",
   "version": "3.7.0"
  }
 },
 "nbformat": 4,
 "nbformat_minor": 2
}
